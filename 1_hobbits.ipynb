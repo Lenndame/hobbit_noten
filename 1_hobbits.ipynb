{
 "cells": [
  {
   "cell_type": "code",
   "execution_count": null,
   "id": "892ae279",
   "metadata": {},
   "outputs": [],
   "source": [
    "\"\"\"\n",
    "Prüfungsnoten in Hobbingen\n",
    "\n",
    "Students: Frodo, Sam, Bilbo, Pippin (liste)\n",
    "Noten: 4, 2, 1, 4 (liste)\n",
    "\n",
    "Hinweis: Liste, index-Methode\n",
    "\n",
    "Userinput: Sam\n",
    "Output: der Schüler Sam hat die Note 2\n",
    "\n",
    "Schreibe ein Programm, welches den User nach einem Commando fragt\n",
    "Avg: Berechne Notendurchschnit der Klasse\n",
    "Student: Gebe die Noten des Schülers aus\n",
    "\n",
    "Beispiel:\n",
    "- Bitte Kommando eingeben: Notendurchschnitt (avg) oder Student (student)\n",
    "- avg\n",
    "- Der Notendurchschnitt der Schüler beträgt 3.3\n",
    "\n",
    "- student\n",
    "- Bitte Namen des Schülers eingeben\n",
    "- Bilbo\n",
    "- Bilbo hat die Note 1\n",
    "\"\"\"\n",
    "names = [\"Frodo\", \"Sam\", \"Bilbo\", \"Pippin\"]\n",
    "grades = [4, 2, 1, 4]\n",
    "\n",
    "user_input1 = input(\"Bitte Kommando eingeben: Notendurchschnitt (avg) oder Student (student)\")\n",
    "\n",
    "if user_input1 == \"student\":\n",
    "    user_input = input(\"Die Note von welchem Hobbit möchten sie wissen?: \")\n",
    "    if user_input in names:\n",
    "        print(f\"Der Schüler {user_input} hat die Note {grades[names.index(user_input)]}.\")\n",
    "    else:\n",
    "        print(f\"Der Schüler {user_input} existiert nicht.\")\n",
    "elif user_input1 == \"avg\":\n",
    "    print(f\"Der Notendurchschnitt beträgt {sum(grades) / len(grades)}\")\n"
   ]
  }
 ],
 "metadata": {
  "kernelspec": {
   "display_name": "Python 3 (ipykernel)",
   "language": "python",
   "name": "python3"
  },
  "language_info": {
   "codemirror_mode": {
    "name": "ipython",
    "version": 3
   },
   "file_extension": ".py",
   "mimetype": "text/x-python",
   "name": "python",
   "nbconvert_exporter": "python",
   "pygments_lexer": "ipython3",
   "version": "3.11.2"
  }
 },
 "nbformat": 4,
 "nbformat_minor": 5
}
